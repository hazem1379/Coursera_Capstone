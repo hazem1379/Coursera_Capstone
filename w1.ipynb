{
 "cells": [
  {
   "cell_type": "markdown",
   "id": "10974fe9-ebc3-44d4-aa81-7782f4d17d28",
   "metadata": {},
   "source": [
    "This is the first version of the notebook which will be used for scripting and excuting the Applied Data Science Capstone."
   ]
  },
  {
   "cell_type": "code",
   "execution_count": 2,
   "id": "1ebc10e3-40c3-4080-89ec-b48c4e5b7521",
   "metadata": {},
   "outputs": [],
   "source": [
    "import pandas as pd\n",
    "import numpy as np"
   ]
  },
  {
   "cell_type": "code",
   "execution_count": 4,
   "id": "509cd0c0-e737-49aa-a4f7-93f97f0b9143",
   "metadata": {},
   "outputs": [
    {
     "name": "stdout",
     "output_type": "stream",
     "text": [
      "Hello Capstone Project Course!\n"
     ]
    }
   ],
   "source": [
    "print(\"Hello Capstone Project Course!\")"
   ]
  }
 ],
 "metadata": {
  "kernelspec": {
   "display_name": "Python",
   "language": "python",
   "name": "conda-env-python-py"
  },
  "language_info": {
   "codemirror_mode": {
    "name": "ipython",
    "version": 3
   },
   "file_extension": ".py",
   "mimetype": "text/x-python",
   "name": "python",
   "nbconvert_exporter": "python",
   "pygments_lexer": "ipython3",
   "version": "3.6.13"
  }
 },
 "nbformat": 4,
 "nbformat_minor": 5
}
